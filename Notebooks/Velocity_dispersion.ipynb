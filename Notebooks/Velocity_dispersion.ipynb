{
 "cells": [
  {
   "cell_type": "markdown",
   "metadata": {},
   "source": [
    "# Velocity dispersion influence of ULDM soliton\n",
    "\n",
    "In this notebook we try to see the influence in the velocity dispersion when a core given by the soliton of Ultra Light Dark Matter is added in a Mass sheet degenerate way.\n",
    "This notebook is inspired from [this notebook](https://github.com/TDCOSMO/hierarchy_analysis_2020_public/blob/master/MST_impact/MST_pl_cored.ipynb) from S. Birrer.\n",
    "\n",
    "Use [this fork](https://github.com/lucateo/lenstronomy/tree/uldm-teodori-inverse-thetac) of lenstronomy to make this run, in order not to have problems."
   ]
  },
  {
   "cell_type": "markdown",
   "metadata": {},
   "source": [
    "## Import standard Python libraries and lenstronomy utils."
   ]
  },
  {
   "cell_type": "code",
   "execution_count": null,
   "metadata": {},
   "outputs": [],
   "source": [
    "import numpy as np\n",
    "import os\n",
    "import time\n",
    "import copy\n",
    "import astropy.io.fits as pyfits\n",
    "from scipy.optimize import fsolve\n",
    "\n",
    "import matplotlib.pyplot as plt\n",
    "from mpl_toolkits.axes_grid1 import make_axes_locatable\n",
    "\n",
    "from lenstronomy.LensModel.lens_model import LensModel\n",
    "from lenstronomy.Cosmo.lens_cosmo import LensCosmo\n",
    "from lenstronomy.LensModel.Solver.lens_equation_solver import LensEquationSolver\n",
    "from lenstronomy.LightModel.light_model import LightModel\n",
    "from lenstronomy.PointSource.point_source import PointSource\n",
    "from lenstronomy.ImSim.image_model import ImageModel\n",
    "import lenstronomy.Util.param_util as param_util\n",
    "import lenstronomy.Util.simulation_util as sim_util\n",
    "import lenstronomy.Util.image_util as image_util\n",
    "from lenstronomy.Util import kernel_util\n",
    "from lenstronomy.Data.imaging_data import ImageData\n",
    "from lenstronomy.Data.psf import PSF\n",
    "\n",
    "import lenstronomy.Util.constants as const\n",
    "from lenstronomy.LensModel.Profiles.pemd import PEMD\n",
    "from lenstronomy.LensModel.Profiles.uldm_pl import Uldm_PL"
   ]
  },
  {
   "cell_type": "markdown",
   "metadata": {},
   "source": [
    "## Setting cosmology and data specifics"
   ]
  },
  {
   "cell_type": "code",
   "execution_count": null,
   "metadata": {},
   "outputs": [],
   "source": [
    "np.random.seed(42)\n",
    "# define lens configuration and cosmology\n",
    "z_lens = 0.5\n",
    "z_source = 1.5\n",
    "from astropy.cosmology import FlatLambdaCDM\n",
    "cosmo = FlatLambdaCDM(H0=74.3, Om0=0.31, Ob0=0.)\n",
    "cosmo_cmb = FlatLambdaCDM(H0=67.4, Om0=0.31, Ob0=0.)\n",
    "lens_cosmo = LensCosmo(z_lens = z_lens, z_source = z_source, cosmo = cosmo)\n",
    "lens_cosmo_cmb = LensCosmo(z_lens = z_lens, z_source = z_source, cosmo = cosmo_cmb)\n",
    "\n",
    "# data specifics\n",
    "sigma_bkg = .05  #  background noise per pixel (Gaussian)\n",
    "exp_time = 100.  #  exposure time (arbitrary units, flux per pixel is in units # photons/exp_time unit)\n",
    "numPix = 100  #  cutout pixel size\n",
    "deltaPix = 0.05  #  pixel size in arcsec (area per pixel = deltaPix**2)\n",
    "fwhm = 0.1  # full width half max of PSF (only valid when psf_type='gaussian')\n",
    "psf_type = 'GAUSSIAN'  # 'GAUSSIAN', 'PIXEL', 'NONE'; point spread function\n",
    "kernel_size = 91\n",
    "\n",
    "\n",
    "# generate the psf variables\n",
    "kwargs_psf = {'psf_type': psf_type, 'pixel_size': deltaPix, 'fwhm': fwhm}\n",
    "#kwargs_psf = sim_util.psf_configure_simple(psf_type=psf_type, fwhm=fwhm, kernelsize=kernel_size, deltaPix=deltaPix, kernel=kernel)\n",
    "psf_class = PSF(**kwargs_psf)"
   ]
  },
  {
   "cell_type": "markdown",
   "metadata": {},
   "source": [
    "## Defining lens model default values"
   ]
  },
  {
   "cell_type": "code",
   "execution_count": null,
   "metadata": {},
   "outputs": [],
   "source": [
    "# lensing quantities\n",
    "gamma1, gamma2 = param_util.shear_polar2cartesian(phi=-0.5, gamma=0.09) # shear quantities\n",
    "kwargs_shear = {'gamma1': gamma1, 'gamma2': gamma2}  # shear values\n",
    "\n",
    "theta_E = 1.66\n",
    "kappa_0 = 0.1\n",
    "slope = 3.78\n",
    "inverse_theta_c = 0.1\n",
    "gamma = 1.98\n",
    "\n",
    "kwargs_spemd = {'theta_E': theta_E, 'gamma': gamma, 'center_x': 0.0, 'center_y': 0.0, 'e1': 0.05, 'e2': 0.05}  # parameters of the deflector lens model\n",
    "kwargs_spemd_MST = {'theta_E': theta_E*(1 - kappa_0), 'gamma': 1.98, 'center_x': 0.0, 'center_y': 0.0, 'e1': 0.05, 'e2': 0.05}  # parameters of the deflector lens model\n",
    "kwargs_uldm = {'kappa_0': kappa_0, 'inverse_theta_c': inverse_theta_c, 'slope': slope, 'center_x': 0.0, 'center_y': 0.0}  # parameters of the deflector lens model\n",
    "\n",
    "lens_model_list = ['PEMD', 'SHEAR']\n",
    "lens_model_list_uldm = ['PEMD', 'SHEAR', 'ULDM']\n",
    "\n",
    "kwargs_lens = [kwargs_spemd, kwargs_shear]\n",
    "kwargs_lens_uldm = [kwargs_spemd_MST, kwargs_shear, kwargs_uldm]\n",
    "\n",
    "lens_model_class = LensModel(lens_model_list=lens_model_list, z_lens=z_lens, z_source=z_source, cosmo=cosmo)\n",
    "lens_model_class_uldm = LensModel(lens_model_list=lens_model_list_uldm, z_lens=z_lens, z_source=z_source, cosmo=cosmo_cmb)\n",
    "\n",
    "# choice of source type\n",
    "source_type = 'SERSIC'  # 'SERSIC' or 'SHAPELETS'\n",
    "source_x = 0.\n",
    "source_y = 0.1\n",
    "# Sersic parameters in the initial simulation for the source\n",
    "phi_G, q = 0.5, 0.8\n",
    "e1, e2 = param_util.phi_q2_ellipticity(phi_G, q)\n",
    "kwargs_sersic_source = {'amp': 2000, 'R_sersic': 0.1, 'n_sersic': 1, 'e1': e1, 'e2': e2, 'center_x': source_x, 'center_y': source_y}\n",
    "#kwargs_else = {'sourcePos_x': source_x, 'sourcePos_y': source_y, 'quasar_amp': 400., 'gamma1_foreground': 0.0, 'gamma2_foreground':-0.0}\n",
    "source_model_list = ['SERSIC_ELLIPSE']\n",
    "kwargs_source = [kwargs_sersic_source]\n",
    "source_model_class = LightModel(light_model_list=source_model_list)\n",
    "\n",
    "# lens light model\n",
    "phi_G, q = 0.9, 0.9\n",
    "e1, e2 = param_util.phi_q2_ellipticity(phi_G, q)\n",
    "kwargs_sersic_lens = {'amp': 4000, 'R_sersic': 0.4, 'n_sersic': 2., 'e1': e1, 'e2': e2, 'center_x': 0.0, 'center_y': 0}\n",
    "lens_light_model_list = ['SERSIC_ELLIPSE']\n",
    "kwargs_lens_light = [kwargs_sersic_lens]\n",
    "lens_light_model_class = LightModel(light_model_list=lens_light_model_list)\n",
    "\n",
    "point_source_list = ['LENSED_POSITION']\n",
    "point_source_class = PointSource(point_source_type_list=point_source_list, fixed_magnification_list=[False])\n",
    "\n",
    "kwargs_numerics = {'supersampling_factor': 1}"
   ]
  },
  {
   "cell_type": "markdown",
   "metadata": {},
   "source": [
    "## Setting the kinematics"
   ]
  },
  {
   "cell_type": "code",
   "execution_count": null,
   "metadata": {},
   "outputs": [],
   "source": [
    "# observational conditions of the spectroscopic campagne\n",
    "R_slit = 1. # slit length in arcsec\n",
    "dR_slit = 1.  # slit width in arcsec\n",
    "psf_fwhm = 0.7\n",
    "\n",
    "kwargs_aperture = {'aperture_type': 'slit', 'length': R_slit, 'width': dR_slit, 'center_ra': 0.05, 'center_dec': 0, 'angle': 0}\n",
    "anisotropy_model = 'OM' # Osipkov-Merritt\n",
    "aperture_type = 'slit'\n",
    "\n",
    "kwargs_numerics_galkin = {'interpol_grid_num': 1000,  # numerical interpolation, should converge -> infinity\n",
    "                          'log_integration': True,  # log or linear interpolation of surface brightness and mass models\n",
    "                           'max_integrate': 100, 'min_integrate': 0.001}  # lower/upper bound of numerical integrals\n",
    "\n",
    "r_ani = 1.\n",
    "r_eff = 0.2\n",
    "kwargs_anisotropy = {'r_ani': r_ani}\n",
    "kwargs_seeing = {'psf_type': 'GAUSSIAN', 'fwhm': psf_fwhm}\n",
    "kwargs_model = {'lens_model_list': lens_model_list,\n",
    "                 'lens_light_model_list': lens_light_model_list,\n",
    "                 'source_light_model_list': source_model_list,\n",
    "                'point_source_model_list': point_source_list\n",
    "                 }\n",
    "kwargs_model_uldm = {'lens_model_list': lens_model_list_uldm,\n",
    "                 'lens_light_model_list': lens_light_model_list,\n",
    "                 'source_light_model_list': source_model_list,\n",
    "                'point_source_model_list': point_source_list\n",
    "                 }\n",
    "\n",
    "from lenstronomy.Analysis.kinematics_api import KinematicsAPI\n",
    "kin_api = KinematicsAPI(z_lens, z_source, kwargs_model, cosmo=cosmo,\n",
    "                        # Put the appropriate bools here if you change the number of lenses!!\n",
    "                        lens_model_kinematics_bool=[True, False], light_model_kinematics_bool=[True],\n",
    "                        kwargs_aperture=kwargs_aperture, kwargs_seeing=kwargs_seeing,\n",
    "                        anisotropy_model=anisotropy_model, kwargs_numerics_galkin=kwargs_numerics_galkin,\n",
    "                        sampling_number=10000,  # numerical ray-shooting, should converge -> infinity\n",
    "                        Hernquist_approx=True)\n",
    "\n",
    "kin_api_uldm = KinematicsAPI(z_lens, z_source, kwargs_model_uldm, cosmo=cosmo_cmb,\n",
    "                        # Put the appropriate bools here if you change the number of lenses!!\n",
    "                        lens_model_kinematics_bool=[True, False, True], light_model_kinematics_bool=[True],\n",
    "                        kwargs_aperture=kwargs_aperture, kwargs_seeing=kwargs_seeing,\n",
    "                        anisotropy_model=anisotropy_model, kwargs_numerics_galkin=kwargs_numerics_galkin,\n",
    "                        sampling_number=10000,  # numerical ray-shooting, should converge -> infinity\n",
    "                        Hernquist_approx=True)"
   ]
  },
  {
   "cell_type": "markdown",
   "metadata": {},
   "source": [
    "Some function needed to implement the relations between soliton and power law background"
   ]
  },
  {
   "cell_type": "code",
   "execution_count": null,
   "metadata": {},
   "outputs": [],
   "source": [
    "def find_tilde_theta(x, *arguments):\n",
    "\n",
    "    tilde_theta = x\n",
    "    kappa_tilde, inverse_theta_c, theta_E = arguments\n",
    "    kappa_E = Uldm_PL()._kappa_E(theta_E, tilde_theta, kappa_tilde, inverse_theta_c)\n",
    "    eq1 = (1 - kappa_E)*theta_E - tilde_theta\n",
    "    return eq1\n",
    "\n",
    "def tilde_theta_finder(kappa_tilde, inverse_theta_c, theta_E):\n",
    "\n",
    "    arguments = (kappa_tilde, inverse_theta_c, theta_E)\n",
    "    tilde_theta = fsolve(find_tilde_theta, 1.6, args=arguments)\n",
    "    return tilde_theta[0]"
   ]
  },
  {
   "cell_type": "markdown",
   "metadata": {},
   "source": [
    "We define here the function which will make the velocity dispersion arrays we will plot."
   ]
  },
  {
   "cell_type": "code",
   "execution_count": null,
   "metadata": {},
   "outputs": [],
   "source": [
    "def velocity_dependence(kwargs_lens, kappa_list, inverse_theta_c):\n",
    "\n",
    "    kwargs_lens_result = copy.deepcopy(kwargs_lens)\n",
    "\n",
    "    vel_disp_list = []\n",
    "    kappa_E_list = []\n",
    "\n",
    "    kwargs_lens_kin = copy.deepcopy(kwargs_lens)\n",
    "    kwargs_lens_kin[2]['kappa_0'] = 0\n",
    "    kwargs_lens_kin[2]['inverse_theta_c'] = inverse_theta_c\n",
    "    kwargs_lens_kin[0]['theta_E'] = theta_E \n",
    "    vel_disp_0 = kin_api.velocity_dispersion(kwargs_lens_kin, kwargs_lens_light, kwargs_anisotropy, r_eff=r_eff, theta_E=None,)\n",
    "\n",
    "    for kappa_tilde in kappa_list:\n",
    "        kappa_ext = 0\n",
    "        kwargs_lens_kin = copy.deepcopy(kwargs_lens)\n",
    "        tilde_theta = tilde_theta_finder(kappa_tilde, inverse_theta_c, theta_E)\n",
    "        if tilde_theta < 0:\n",
    "            tilde_theta = 0\n",
    "        kappa_E = 1 - tilde_theta/theta_E\n",
    "        kappa_0 = Uldm_PL()._kappa_0_real(tilde_theta, kappa_tilde, inverse_theta_c)\n",
    "        kwargs_lens_kin[2]['kappa_0'] = kappa_0\n",
    "        kwargs_lens_kin[2]['inverse_theta_c'] = inverse_theta_c\n",
    "        kwargs_lens_kin[0]['theta_E'] = tilde_theta\n",
    "\n",
    "        vel_disp = kin_api_uldm.velocity_dispersion(kwargs_lens_kin, kwargs_lens_light, kwargs_anisotropy, r_eff=r_eff, theta_E=None, kappa_ext=kappa_ext)\n",
    "        vel_disp_list.append(vel_disp)\n",
    "        kappa_E_list.append(kappa_E)\n",
    "    return np.array(vel_disp_list), vel_disp_0, np.array(kappa_E_list)\n",
    "\n",
    "# Plot with theta_c, kappa_E\n",
    "num_points_kappa = 30\n",
    "kappa_list = np.linspace(0.001, 0.15, num_points_kappa)\n",
    "inverse_theta_c_list = [0.2, 0.1, 0.05]\n",
    "vel_disp_list_r = []\n",
    "vel_disp_0_r = []\n",
    "kappa_E_list_r = []\n",
    "for inverse_theta_core in inverse_theta_c_list:\n",
    "    vel_disp_list, vel_disp_0, kappa_E_list = velocity_dependence(kwargs_lens_uldm, kappa_list, inverse_theta_core)\n",
    "    vel_disp_list_r.append(vel_disp_list)\n",
    "    vel_disp_0_r.append(vel_disp_0)\n",
    "    kappa_E_list_r.append(kappa_E_list)\n",
    "    print(inverse_theta_core)"
   ]
  },
  {
   "cell_type": "markdown",
   "metadata": {},
   "source": [
    "## Plotting the result"
   ]
  },
  {
   "cell_type": "code",
   "execution_count": null,
   "metadata": {},
   "outputs": [],
   "source": [
    "f, axes = plt.subplots(2, 1, gridspec_kw={'height_ratios': [4, 2]}, sharex=True)\n",
    "\n",
    "for i in range(len(inverse_theta_c_list)):\n",
    "    vel_disp_list = vel_disp_list_r[i]\n",
    "    vel_disp_0 = vel_disp_0_r[i]\n",
    "    kappa_E_list = kappa_E_list_r[i]\n",
    "\n",
    "    axes[0].plot(kappa_E_list, vel_disp_list, label=r'$\\sigma^{\\rm P}$ for $\\theta_{\\rm c} =$'+str(1/inverse_theta_c_list[i])+repr('') )\n",
    "axes[0].plot(kappa_E_list, vel_disp_0*np.ones(num_points_kappa), 'k--', label=r\"$\\sigma^{\\rm P} = \\sigma^{\\rm P}(\\kappa_\\lambda = 0)$\")\n",
    "axes[0].set_ylim([235, 275])\n",
    "axes[0].set_ylabel(r'$\\sigma^{\\rm P}$ [km/s]', fontsize = 14)\n",
    "axes[0].legend(fontsize=14)\n",
    "axes[0].grid()\n",
    "\n",
    "for i in range(len(inverse_theta_c_list)):\n",
    "    vel_disp_list = vel_disp_list_r[i]\n",
    "    vel_disp_0 = vel_disp_0_r[i]\n",
    "    kappa_E_list = kappa_E_list_r[i]\n",
    "\n",
    "    axes[1].plot(kappa_E_list, (vel_disp_list - vel_disp_0) / vel_disp_0 , label=r'$\\sigma^{\\rm P}(\\kappa_{\\lambda_{\\rm c}})$ for $\\theta_{\\rm c} =$'+str(1/inverse_theta_c_list[i]))\n",
    "axes[1].set_ylabel(r'$\\Delta \\sigma^{\\rm P} / \\sigma^{\\rm P} $', fontsize = 14)\n",
    "axes[1].plot([0, 2], [0, 0], ':k')\n",
    "axes[1].set_ylim([-0.10, 0.05])\n",
    "plt.xlim([0.01, 0.2])\n",
    "plt.xlabel(r'$\\kappa_{\\lambda} (\\theta_{\\rm E}) $', fontsize=14)\n",
    "plt.tight_layout()\n",
    "plt.grid()\n"
   ]
  }
 ],
 "metadata": {
  "kernelspec": {
   "display_name": "Python 3",
   "language": "python",
   "name": "python3"
  },
  "language_info": {
   "codemirror_mode": {
    "name": "ipython",
    "version": 3
   },
   "file_extension": ".py",
   "mimetype": "text/x-python",
   "name": "python",
   "nbconvert_exporter": "python",
   "pygments_lexer": "ipython3",
   "version": "3.8.5"
  }
 },
 "nbformat": 4,
 "nbformat_minor": 4
}
